{
 "cells": [
  {
   "cell_type": "code",
   "execution_count": null,
   "metadata": {},
   "outputs": [],
   "source": [
    "import math\n",
    "[math.sqrt(e) for e in range(20)]"
   ]
  },
  {
   "cell_type": "code",
   "execution_count": null,
   "metadata": {},
   "outputs": [],
   "source": [
    "a=[math.sqrt(e) for e in range(20)]\n",
    "print(a)"
   ]
  },
  {
   "cell_type": "code",
   "execution_count": null,
   "metadata": {},
   "outputs": [],
   "source": [
    "a=[e**2 for e in range(20)]\n",
    "print(a)"
   ]
  },
  {
   "cell_type": "code",
   "execution_count": null,
   "metadata": {},
   "outputs": [],
   "source": [
    "power_of_two=[e**2 for e in range(50)]\n",
    "print(power_of_two)"
   ]
  },
  {
   "cell_type": "code",
   "execution_count": null,
   "metadata": {},
   "outputs": [],
   "source": [
    "power_of_two=[2**e for e in range(50)]\n",
    "print(power_of_two)\n"
   ]
  },
  {
   "cell_type": "code",
   "execution_count": null,
   "metadata": {},
   "outputs": [],
   "source": [
    "a=[math.sqrt(e) for e in range(100)]\n",
    "print(a)"
   ]
  },
  {
   "cell_type": "code",
   "execution_count": null,
   "metadata": {},
   "outputs": [],
   "source": [
    "my_list=[]\n",
    "[my_list.append(e) for e in range(-10)]\n",
    "print(my_list)"
   ]
  },
  {
   "cell_type": "code",
   "execution_count": null,
   "metadata": {},
   "outputs": [],
   "source": [
    "\n",
    "print([my_list.append(e) for e in range(-10)])\n"
   ]
  },
  {
   "cell_type": "code",
   "execution_count": null,
   "metadata": {},
   "outputs": [],
   "source": [
    "my_list=[e for e in range(-10,1)]\n",
    "print(my_list)"
   ]
  },
  {
   "cell_type": "code",
   "execution_count": null,
   "metadata": {},
   "outputs": [],
   "source": [
    "print(list(range(0,100)))"
   ]
  },
  {
   "cell_type": "code",
   "execution_count": null,
   "metadata": {},
   "outputs": [],
   "source": [
    "odds=[e for e in range(0,101) if e % 2 !=0]\n",
    "print(odds)"
   ]
  },
  {
   "cell_type": "code",
   "execution_count": null,
   "metadata": {},
   "outputs": [],
   "source": [
    "divisible_by_seven=[e for e in range(0,101) if e % 7 ==0]\n",
    "print(divisible_by_seven)"
   ]
  },
  {
   "cell_type": "code",
   "execution_count": null,
   "metadata": {},
   "outputs": [],
   "source": [
    "teststring = 'Find all of the words in a string that are monosyllabic'\n",
    "vowels=['A','E','I','O','U']\n",
    "non_vowels=[new_list.append(e) for e in teststring if not e in vowels]\n",
    "print(non_vowels)"
   ]
  },
  {
   "cell_type": "code",
   "execution_count": null,
   "metadata": {},
   "outputs": [],
   "source": [
    "teststring = 'Find all of the words in a string that are monosyllabic'\n",
    "new_list=[]\n",
    "vowels=['A','E','I','O','U']\n",
    "non_vowels=[new_list.append(e) for e in teststring if not e in vowels]\n",
    "print(new_list)"
   ]
  },
  {
   "cell_type": "code",
   "execution_count": null,
   "metadata": {},
   "outputs": [],
   "source": [
    "teststring = 'Find all of the words in a string that are monosyllabic'\n",
    "new_list=[]\n",
    "vowels=['A','E','I','O','U']\n",
    "non_vowels=[new_list.append(e) for e in teststring if not e in vowels.lower()]\n",
    "print(new_list)"
   ]
  },
  {
   "cell_type": "code",
   "execution_count": null,
   "metadata": {},
   "outputs": [],
   "source": [
    "teststring = 'Find all of the words in a string that are monosyllabic'\n",
    "new_list=[]\n",
    "vowels=['a','e','i','o','u']\n",
    "non_vowels=[new_list.append(e) for e in teststring if not e in vowels]\n",
    "print(new_list)"
   ]
  },
  {
   "cell_type": "code",
   "execution_count": null,
   "metadata": {},
   "outputs": [],
   "source": [
    "teststring = 'Find all of the words in a string that are monosyllabic'\n",
    "non_vowels=[]\n",
    "vowels=['a','e','i','o','u']\n",
    "non_vowels1=[non_vowels.append(e) for e in teststring if not e in vowels]\n",
    "print(non_vowels)"
   ]
  },
  {
   "cell_type": "code",
   "execution_count": null,
   "metadata": {},
   "outputs": [],
   "source": [
    "sentence=('The Quick Brown Fox Jumped Over The Lazy Dog')\n",
    "lista=[]\n",
    "capital_letters=[lista.append(e) for e in sentence if e==sentence.capitalize()]\n",
    "print(capital_letters)"
   ]
  },
  {
   "cell_type": "code",
   "execution_count": null,
   "metadata": {},
   "outputs": [],
   "source": [
    "sentence='The Quick Brown Fox Jumped Over The Lazy Dog'\n",
    "vowels=['a','e','i','o','u']\n",
    "consonants=[e for e in sentencelower()]\n",
    "print(consonants)"
   ]
  },
  {
   "cell_type": "code",
   "execution_count": 44,
   "metadata": {},
   "outputs": [
    {
     "name": "stdout",
     "output_type": "stream",
     "text": [
      "['t', 'h', 'e', ' ', 'q', 'u', 'i', 'c', 'k', ' ', 'b', 'r', 'o', 'w', 'n', ' ', 'f', 'o', 'x', ' ', 'j', 'u', 'm', 'p', 'e', 'd', ' ', 'o', 'v', 'e', 'r', ' ', 't', 'h', 'e', ' ', 'l', 'a', 'z', 'y', ' ', 'd', 'o', 'g']\n"
     ]
    }
   ],
   "source": [
    "sentence='The Quick Brown Fox Jumped Over The Lazy Dog'\n",
    "vowels=['a','e','i','o','u']\n",
    "consonants=[e for e in sentence.lower()]\n",
    "print(consonants)"
   ]
  },
  {
   "cell_type": "code",
   "execution_count": 46,
   "metadata": {},
   "outputs": [
    {
     "name": "stdout",
     "output_type": "stream",
     "text": [
      "['tt', 'hh', '  ', 'qq', 'cc', 'kk', '  ', 'bb', 'rr', 'ww', 'nn', '  ', 'ff', 'xx', '  ', 'jj', 'mm', 'pp', 'dd', '  ', 'vv', 'rr', '  ', 'tt', 'hh', '  ', 'll', 'zz', 'yy', '  ', 'dd', 'gg']\n"
     ]
    }
   ],
   "source": [
    "sentence='The Quick Brown Fox Jumped Over The Lazy Dog'\n",
    "vowels=['a','e','i','o','u']\n",
    "consonants=[e+e for e in sentence.lower()if e not in vowels]\n",
    "print(consonants)"
   ]
  },
  {
   "cell_type": "code",
   "execution_count": null,
   "metadata": {},
   "outputs": [],
   "source": [
    "sentence='The Quick Brown Fox Jumped Over The Lazy Dog'\n",
    "vowels=['a','e','i','o','u']\n",
    "consonants=[e for e in sentence.lower()if e not in vowels]\n",
    "print(\"\".join(consonants))"
   ]
  },
  {
   "cell_type": "code",
   "execution_count": null,
   "metadata": {},
   "outputs": [],
   "source": [
    "with open('datamad0120/module-1/lab-generators-functions/your-code') as file:\n",
    "    data=file.read()"
   ]
  },
  {
   "cell_type": "code",
   "execution_count": null,
   "metadata": {},
   "outputs": [],
   "source": [
    "with open('/Users/mariaroigporta/datamad0120/module-1/lab-errhand_listcomp/your-code/main.py') as file:\n",
    "    data=file.read()\n",
    "    "
   ]
  },
  {
   "cell_type": "code",
   "execution_count": null,
   "metadata": {},
   "outputs": [],
   "source": [
    "import os \n",
    "with open('datamad0120/module-1/lab-generators-functions/your-code/main.py') as file:\n",
    "    data=file.listdir()\n",
    "    print(data)"
   ]
  },
  {
   "cell_type": "code",
   "execution_count": null,
   "metadata": {},
   "outputs": [],
   "source": [
    "import os\n",
    "with open('/Users/mariaroigporta/datamad0120/module-1/lab-errhand_listcomp') as file:\n",
    "    data=file.listdir()\n",
    "    print(data)"
   ]
  },
  {
   "cell_type": "code",
   "execution_count": null,
   "metadata": {},
   "outputs": [],
   "source": [
    "import os \n",
    "path='/Users/mariaroigporta/datamad0120'\n",
    "dir_list=os.listdir(path)\n",
    "print(dir_list)"
   ]
  },
  {
   "cell_type": "code",
   "execution_count": null,
   "metadata": {},
   "outputs": [],
   "source": [
    "import os \n",
    "path='/Users/mariaroigporta/datamad0120'\n",
    "dir_list=os.listdir(path)\n",
    "files=[e for e in os.listdir(path)]\n",
    "print(files)"
   ]
  },
  {
   "cell_type": "code",
   "execution_count": null,
   "metadata": {},
   "outputs": [],
   "source": [
    "import os \n",
    "files=[e for e in os.listdir('/Users/mariaroigporta/datamad0120')]\n",
    "print(files)"
   ]
  },
  {
   "cell_type": "code",
   "execution_count": null,
   "metadata": {},
   "outputs": [],
   "source": [
    "import random\n",
    "random_lists=[e for e in random.randint(0,101)]"
   ]
  },
  {
   "cell_type": "code",
   "execution_count": null,
   "metadata": {},
   "outputs": [],
   "source": [
    "import random\n",
    "random_lists=[e for e in range(0,101)]\n",
    "print(random.choice(random_lists))"
   ]
  },
  {
   "cell_type": "code",
   "execution_count": null,
   "metadata": {},
   "outputs": [],
   "source": [
    "import random\n",
    "lista=[]\n",
    "random_lists=[lista.append(e) for e in range(0,101)]\n",
    "print(random.choice(random_lists))"
   ]
  },
  {
   "cell_type": "code",
   "execution_count": null,
   "metadata": {},
   "outputs": [],
   "source": [
    "import random\n",
    "random_lists=[e for e in range(0,101)]\n",
    "r=random.choice(random_lists)\n",
    "print(r)"
   ]
  },
  {
   "cell_type": "code",
   "execution_count": null,
   "metadata": {},
   "outputs": [],
   "source": [
    "import random\n",
    "random_lists=[[n for e in range(10)] for e in range(0,101)]\n",
    "(print(random.choice(random_lists)))"
   ]
  },
  {
   "cell_type": "code",
   "execution_count": null,
   "metadata": {},
   "outputs": [],
   "source": [
    "import random\n",
    "random_lists=[[n for n in range(10)] for e in range(0,101)]\n",
    "(print(random.choice(random_lists)))"
   ]
  },
  {
   "cell_type": "code",
   "execution_count": null,
   "metadata": {},
   "outputs": [],
   "source": [
    "import random\n",
    "random_lists=[[n for n in range(10)] for e in range(0,101)]\n",
    "(print(random.choice(random_lists)))\n"
   ]
  },
  {
   "cell_type": "code",
   "execution_count": null,
   "metadata": {},
   "outputs": [],
   "source": [
    "import random\n",
    "random_lists=[[random.choice(random_lists for n in range(10)] for e in range(0,101)]\n"
   ]
  },
  {
   "cell_type": "code",
   "execution_count": null,
   "metadata": {},
   "outputs": [],
   "source": [
    "import random\n",
    "random_list=[e for e in range()]"
   ]
  },
  {
   "cell_type": "code",
   "execution_count": 18,
   "metadata": {},
   "outputs": [
    {
     "name": "stdout",
     "output_type": "stream",
     "text": [
      "[[]]\n",
      "[[54]]\n",
      "[[54, 43]]\n",
      "[[54, 43, 42]]\n",
      "[[54, 43, 42, 9]]\n",
      "[[54, 43, 42, 9, 30]]\n",
      "[[54, 43, 42, 9, 30, 32]]\n",
      "[[54, 43, 42, 9, 30, 32, 63]]\n",
      "[[54, 43, 42, 9, 30, 32, 63, 38]]\n",
      "[[54, 43, 42, 9, 30, 32, 63, 38, 97]]\n",
      "[[54, 43, 42, 9, 30, 32, 63, 38, 97, 34]]\n",
      "[[54, 43, 42, 9, 30, 32, 63, 38, 97, 34], []]\n",
      "[[54, 43, 42, 9, 30, 32, 63, 38, 97, 34], [43]]\n",
      "[[54, 43, 42, 9, 30, 32, 63, 38, 97, 34], [43, 60]]\n",
      "[[54, 43, 42, 9, 30, 32, 63, 38, 97, 34], [43, 60, 81]]\n",
      "[[54, 43, 42, 9, 30, 32, 63, 38, 97, 34], [43, 60, 81, 31]]\n",
      "[[54, 43, 42, 9, 30, 32, 63, 38, 97, 34], [43, 60, 81, 31, 61]]\n",
      "[[54, 43, 42, 9, 30, 32, 63, 38, 97, 34], [43, 60, 81, 31, 61, 73]]\n",
      "[[54, 43, 42, 9, 30, 32, 63, 38, 97, 34], [43, 60, 81, 31, 61, 73, 78]]\n",
      "[[54, 43, 42, 9, 30, 32, 63, 38, 97, 34], [43, 60, 81, 31, 61, 73, 78, 87]]\n",
      "[[54, 43, 42, 9, 30, 32, 63, 38, 97, 34], [43, 60, 81, 31, 61, 73, 78, 87, 47]]\n",
      "[[54, 43, 42, 9, 30, 32, 63, 38, 97, 34], [43, 60, 81, 31, 61, 73, 78, 87, 47, 11]]\n",
      "[[54, 43, 42, 9, 30, 32, 63, 38, 97, 34], [43, 60, 81, 31, 61, 73, 78, 87, 47, 11], []]\n",
      "[[54, 43, 42, 9, 30, 32, 63, 38, 97, 34], [43, 60, 81, 31, 61, 73, 78, 87, 47, 11], [7]]\n",
      "[[54, 43, 42, 9, 30, 32, 63, 38, 97, 34], [43, 60, 81, 31, 61, 73, 78, 87, 47, 11], [7, 44]]\n",
      "[[54, 43, 42, 9, 30, 32, 63, 38, 97, 34], [43, 60, 81, 31, 61, 73, 78, 87, 47, 11], [7, 44, 94]]\n",
      "[[54, 43, 42, 9, 30, 32, 63, 38, 97, 34], [43, 60, 81, 31, 61, 73, 78, 87, 47, 11], [7, 44, 94, 27]]\n",
      "[[54, 43, 42, 9, 30, 32, 63, 38, 97, 34], [43, 60, 81, 31, 61, 73, 78, 87, 47, 11], [7, 44, 94, 27, 6]]\n",
      "[[54, 43, 42, 9, 30, 32, 63, 38, 97, 34], [43, 60, 81, 31, 61, 73, 78, 87, 47, 11], [7, 44, 94, 27, 6, 60]]\n",
      "[[54, 43, 42, 9, 30, 32, 63, 38, 97, 34], [43, 60, 81, 31, 61, 73, 78, 87, 47, 11], [7, 44, 94, 27, 6, 60, 29]]\n",
      "[[54, 43, 42, 9, 30, 32, 63, 38, 97, 34], [43, 60, 81, 31, 61, 73, 78, 87, 47, 11], [7, 44, 94, 27, 6, 60, 29, 54]]\n",
      "[[54, 43, 42, 9, 30, 32, 63, 38, 97, 34], [43, 60, 81, 31, 61, 73, 78, 87, 47, 11], [7, 44, 94, 27, 6, 60, 29, 54, 0]]\n",
      "[[54, 43, 42, 9, 30, 32, 63, 38, 97, 34], [43, 60, 81, 31, 61, 73, 78, 87, 47, 11], [7, 44, 94, 27, 6, 60, 29, 54, 0, 81]]\n",
      "[[54, 43, 42, 9, 30, 32, 63, 38, 97, 34], [43, 60, 81, 31, 61, 73, 78, 87, 47, 11], [7, 44, 94, 27, 6, 60, 29, 54, 0, 81], []]\n",
      "[[54, 43, 42, 9, 30, 32, 63, 38, 97, 34], [43, 60, 81, 31, 61, 73, 78, 87, 47, 11], [7, 44, 94, 27, 6, 60, 29, 54, 0, 81], [82]]\n",
      "[[54, 43, 42, 9, 30, 32, 63, 38, 97, 34], [43, 60, 81, 31, 61, 73, 78, 87, 47, 11], [7, 44, 94, 27, 6, 60, 29, 54, 0, 81], [82, 7]]\n",
      "[[54, 43, 42, 9, 30, 32, 63, 38, 97, 34], [43, 60, 81, 31, 61, 73, 78, 87, 47, 11], [7, 44, 94, 27, 6, 60, 29, 54, 0, 81], [82, 7, 81]]\n",
      "[[54, 43, 42, 9, 30, 32, 63, 38, 97, 34], [43, 60, 81, 31, 61, 73, 78, 87, 47, 11], [7, 44, 94, 27, 6, 60, 29, 54, 0, 81], [82, 7, 81, 41]]\n",
      "[[54, 43, 42, 9, 30, 32, 63, 38, 97, 34], [43, 60, 81, 31, 61, 73, 78, 87, 47, 11], [7, 44, 94, 27, 6, 60, 29, 54, 0, 81], [82, 7, 81, 41, 62]]\n",
      "[[54, 43, 42, 9, 30, 32, 63, 38, 97, 34], [43, 60, 81, 31, 61, 73, 78, 87, 47, 11], [7, 44, 94, 27, 6, 60, 29, 54, 0, 81], [82, 7, 81, 41, 62, 89]]\n",
      "[[54, 43, 42, 9, 30, 32, 63, 38, 97, 34], [43, 60, 81, 31, 61, 73, 78, 87, 47, 11], [7, 44, 94, 27, 6, 60, 29, 54, 0, 81], [82, 7, 81, 41, 62, 89, 87]]\n",
      "[[54, 43, 42, 9, 30, 32, 63, 38, 97, 34], [43, 60, 81, 31, 61, 73, 78, 87, 47, 11], [7, 44, 94, 27, 6, 60, 29, 54, 0, 81], [82, 7, 81, 41, 62, 89, 87, 52]]\n",
      "[[54, 43, 42, 9, 30, 32, 63, 38, 97, 34], [43, 60, 81, 31, 61, 73, 78, 87, 47, 11], [7, 44, 94, 27, 6, 60, 29, 54, 0, 81], [82, 7, 81, 41, 62, 89, 87, 52, 56]]\n",
      "[[54, 43, 42, 9, 30, 32, 63, 38, 97, 34], [43, 60, 81, 31, 61, 73, 78, 87, 47, 11], [7, 44, 94, 27, 6, 60, 29, 54, 0, 81], [82, 7, 81, 41, 62, 89, 87, 52, 56, 40]]\n",
      "[[54, 43, 42, 9, 30, 32, 63, 38, 97, 34], [43, 60, 81, 31, 61, 73, 78, 87, 47, 11], [7, 44, 94, 27, 6, 60, 29, 54, 0, 81], [82, 7, 81, 41, 62, 89, 87, 52, 56, 40]]\n"
     ]
    }
   ],
   "source": [
    "import random\n",
    "lista_lis=[]\n",
    "\n",
    "for x in range(4):\n",
    "    lista3=[]\n",
    "    lista_lis.append(lista3)\n",
    "    for x in range(10):\n",
    "        lista3.append(random.choice([e for e in range(101)]))\n",
    "    \n",
    "print(lista_lis)"
   ]
  },
  {
   "cell_type": "code",
   "execution_count": null,
   "metadata": {},
   "outputs": [],
   "source": [
    "random.choice([e for e in range(101)])"
   ]
  },
  {
   "cell_type": "code",
   "execution_count": null,
   "metadata": {},
   "outputs": [],
   "source": []
  },
  {
   "cell_type": "code",
   "execution_count": null,
   "metadata": {},
   "outputs": [],
   "source": []
  },
  {
   "cell_type": "code",
   "execution_count": 20,
   "metadata": {},
   "outputs": [
    {
     "ename": "TypeError",
     "evalue": "object of type 'int' has no len()",
     "output_type": "error",
     "traceback": [
      "\u001b[0;31m---------------------------------------------------------------------------\u001b[0m",
      "\u001b[0;31mTypeError\u001b[0m                                 Traceback (most recent call last)",
      "\u001b[0;32m<ipython-input-20-c890c9ac497e>\u001b[0m in \u001b[0;36m<module>\u001b[0;34m\u001b[0m\n\u001b[1;32m      1\u001b[0m \u001b[0;32mimport\u001b[0m \u001b[0mrandom\u001b[0m\u001b[0;34m\u001b[0m\u001b[0;34m\u001b[0m\u001b[0m\n\u001b[0;32m----> 2\u001b[0;31m \u001b[0mrandom_list\u001b[0m\u001b[0;34m=\u001b[0m\u001b[0;34m[\u001b[0m\u001b[0mrandom\u001b[0m\u001b[0;34m.\u001b[0m\u001b[0mchoice\u001b[0m\u001b[0;34m(\u001b[0m\u001b[0me\u001b[0m\u001b[0;34m)\u001b[0m \u001b[0;32mfor\u001b[0m \u001b[0me\u001b[0m \u001b[0;32min\u001b[0m \u001b[0mrange\u001b[0m\u001b[0;34m(\u001b[0m\u001b[0;36m101\u001b[0m\u001b[0;34m)\u001b[0m\u001b[0;34m]\u001b[0m\u001b[0;34m\u001b[0m\u001b[0;34m\u001b[0m\u001b[0m\n\u001b[0m",
      "\u001b[0;32m<ipython-input-20-c890c9ac497e>\u001b[0m in \u001b[0;36m<listcomp>\u001b[0;34m(.0)\u001b[0m\n\u001b[1;32m      1\u001b[0m \u001b[0;32mimport\u001b[0m \u001b[0mrandom\u001b[0m\u001b[0;34m\u001b[0m\u001b[0;34m\u001b[0m\u001b[0m\n\u001b[0;32m----> 2\u001b[0;31m \u001b[0mrandom_list\u001b[0m\u001b[0;34m=\u001b[0m\u001b[0;34m[\u001b[0m\u001b[0mrandom\u001b[0m\u001b[0;34m.\u001b[0m\u001b[0mchoice\u001b[0m\u001b[0;34m(\u001b[0m\u001b[0me\u001b[0m\u001b[0;34m)\u001b[0m \u001b[0;32mfor\u001b[0m \u001b[0me\u001b[0m \u001b[0;32min\u001b[0m \u001b[0mrange\u001b[0m\u001b[0;34m(\u001b[0m\u001b[0;36m101\u001b[0m\u001b[0;34m)\u001b[0m\u001b[0;34m]\u001b[0m\u001b[0;34m\u001b[0m\u001b[0;34m\u001b[0m\u001b[0m\n\u001b[0m",
      "\u001b[0;32m/usr/local/Cellar/python/3.7.6_1/Frameworks/Python.framework/Versions/3.7/lib/python3.7/random.py\u001b[0m in \u001b[0;36mchoice\u001b[0;34m(self, seq)\u001b[0m\n\u001b[1;32m    257\u001b[0m         \u001b[0;34m\"\"\"Choose a random element from a non-empty sequence.\"\"\"\u001b[0m\u001b[0;34m\u001b[0m\u001b[0;34m\u001b[0m\u001b[0m\n\u001b[1;32m    258\u001b[0m         \u001b[0;32mtry\u001b[0m\u001b[0;34m:\u001b[0m\u001b[0;34m\u001b[0m\u001b[0;34m\u001b[0m\u001b[0m\n\u001b[0;32m--> 259\u001b[0;31m             \u001b[0mi\u001b[0m \u001b[0;34m=\u001b[0m \u001b[0mself\u001b[0m\u001b[0;34m.\u001b[0m\u001b[0m_randbelow\u001b[0m\u001b[0;34m(\u001b[0m\u001b[0mlen\u001b[0m\u001b[0;34m(\u001b[0m\u001b[0mseq\u001b[0m\u001b[0;34m)\u001b[0m\u001b[0;34m)\u001b[0m\u001b[0;34m\u001b[0m\u001b[0;34m\u001b[0m\u001b[0m\n\u001b[0m\u001b[1;32m    260\u001b[0m         \u001b[0;32mexcept\u001b[0m \u001b[0mValueError\u001b[0m\u001b[0;34m:\u001b[0m\u001b[0;34m\u001b[0m\u001b[0;34m\u001b[0m\u001b[0m\n\u001b[1;32m    261\u001b[0m             \u001b[0;32mraise\u001b[0m \u001b[0mIndexError\u001b[0m\u001b[0;34m(\u001b[0m\u001b[0;34m'Cannot choose from an empty sequence'\u001b[0m\u001b[0;34m)\u001b[0m \u001b[0;32mfrom\u001b[0m \u001b[0;32mNone\u001b[0m\u001b[0;34m\u001b[0m\u001b[0;34m\u001b[0m\u001b[0m\n",
      "\u001b[0;31mTypeError\u001b[0m: object of type 'int' has no len()"
     ]
    }
   ],
   "source": [
    "import random\n",
    "random_list=[random.choice(e) for e in range(101)]"
   ]
  },
  {
   "cell_type": "code",
   "execution_count": 22,
   "metadata": {},
   "outputs": [
    {
     "name": "stdout",
     "output_type": "stream",
     "text": [
      "[[1, 2, 3], [4, 5, 6], [7, 8, 9]]\n"
     ]
    }
   ],
   "source": [
    "list_of_lists = [[1,2,3],[4,5,6],[7,8,9]]\n",
    "flatten_list=[e for e in list_of_lists]"
   ]
  },
  {
   "cell_type": "code",
   "execution_count": 25,
   "metadata": {},
   "outputs": [
    {
     "ename": "NameError",
     "evalue": "name 'li' is not defined",
     "output_type": "error",
     "traceback": [
      "\u001b[0;31m---------------------------------------------------------------------------\u001b[0m",
      "\u001b[0;31mNameError\u001b[0m                                 Traceback (most recent call last)",
      "\u001b[0;32m<ipython-input-25-3098d6474c2f>\u001b[0m in \u001b[0;36m<module>\u001b[0;34m\u001b[0m\n\u001b[1;32m      1\u001b[0m \u001b[0mlist_of_lists\u001b[0m \u001b[0;34m=\u001b[0m \u001b[0;34m[\u001b[0m\u001b[0;34m[\u001b[0m\u001b[0;36m1\u001b[0m\u001b[0;34m,\u001b[0m\u001b[0;36m2\u001b[0m\u001b[0;34m,\u001b[0m\u001b[0;36m3\u001b[0m\u001b[0;34m]\u001b[0m\u001b[0;34m,\u001b[0m\u001b[0;34m[\u001b[0m\u001b[0;36m4\u001b[0m\u001b[0;34m,\u001b[0m\u001b[0;36m5\u001b[0m\u001b[0;34m,\u001b[0m\u001b[0;36m6\u001b[0m\u001b[0;34m]\u001b[0m\u001b[0;34m,\u001b[0m\u001b[0;34m[\u001b[0m\u001b[0;36m7\u001b[0m\u001b[0;34m,\u001b[0m\u001b[0;36m8\u001b[0m\u001b[0;34m,\u001b[0m\u001b[0;36m9\u001b[0m\u001b[0;34m]\u001b[0m\u001b[0;34m]\u001b[0m\u001b[0;34m\u001b[0m\u001b[0;34m\u001b[0m\u001b[0m\n\u001b[0;32m----> 2\u001b[0;31m \u001b[0mflatten_list\u001b[0m\u001b[0;34m=\u001b[0m\u001b[0;34m[\u001b[0m\u001b[0mitem\u001b[0m \u001b[0;32mfor\u001b[0m \u001b[0msublist\u001b[0m \u001b[0;32min\u001b[0m \u001b[0mli\u001b[0m \u001b[0;32mfor\u001b[0m \u001b[0mitem\u001b[0m \u001b[0;32min\u001b[0m \u001b[0msublist\u001b[0m\u001b[0;34m]\u001b[0m\u001b[0;34m\u001b[0m\u001b[0;34m\u001b[0m\u001b[0m\n\u001b[0m\u001b[1;32m      3\u001b[0m \u001b[0mprint\u001b[0m\u001b[0;34m(\u001b[0m\u001b[0mflatten_list\u001b[0m\u001b[0;34m)\u001b[0m\u001b[0;34m\u001b[0m\u001b[0;34m\u001b[0m\u001b[0m\n",
      "\u001b[0;31mNameError\u001b[0m: name 'li' is not defined"
     ]
    }
   ],
   "source": [
    "list_of_lists = [[1,2,3],[4,5,6],[7,8,9]]\n",
    "flatten_list=[item for sublist in li for item in sublist]\n",
    "print(flatten_list)"
   ]
  },
  {
   "cell_type": "code",
   "execution_count": 48,
   "metadata": {},
   "outputs": [
    {
     "name": "stdout",
     "output_type": "stream",
     "text": [
      "[1, 2, 3, 4, 5, 6, 7, 8, 9]\n",
      "[7, 8, 9]\n"
     ]
    }
   ],
   "source": [
    "list_of_lists = [[1,2,3],[4,5,6],[7,8,9]]\n",
    "flatten_list=[item for sublist in list_of_lists for item in sublist]\n",
    "print(flatten_list)\n",
    "print(sublist)"
   ]
  },
  {
   "cell_type": "code",
   "execution_count": 43,
   "metadata": {},
   "outputs": [
    {
     "name": "stdout",
     "output_type": "stream",
     "text": [
      "[[52, 57, 38, 25, 3, 10, 52, 11, 68, 16], [17, 4, 37, 35, 49, 67, 12, 75, 92, 72], [70, 52, 4, 78, 9, 23, 93, 42, 88, 42], [23, 52, 44, 61, 72, 88, 3, 53, 100, 79]]\n"
     ]
    }
   ],
   "source": [
    "import random\n",
    "lista=[[random.randint(1,100) for e in range(10)] for e in range(4)]\n",
    "print(lista)"
   ]
  },
  {
   "cell_type": "code",
   "execution_count": 14,
   "metadata": {},
   "outputs": [
    {
     "name": "stdout",
     "output_type": "stream",
     "text": [
      "[2, 4, 6, 8, 10, 12, 14, 16, 18]\n"
     ]
    },
    {
     "data": {
      "text/plain": [
       "'for x in list_of_lists:\\n    for item in x: \\n        print(item)'"
      ]
     },
     "execution_count": 14,
     "metadata": {},
     "output_type": "execute_result"
    }
   ],
   "source": [
    "list_of_lists = [[1,2,3],[4,5,6],[7,8,9]]\n",
    "listas=[item+item for x in list_of_lists for item in x]\n",
    "print(listas)\n",
    "\n",
    "'''for x in list_of_lists:\n",
    "    for item in x: \n",
    "        print(item)'''"
   ]
  },
  {
   "cell_type": "code",
   "execution_count": 41,
   "metadata": {},
   "outputs": [],
   "source": [
    "list_of_lists = [['40', '20', '10', '30'], ['20', '20', '20', '20', '20', '30', '20'], \\\n",
    "['30', '20', '30', '50', '10', '30', '20', '20', '20'], ['100', '100'], ['100', '100', '100', '100', '100'], \\\n",
    "['100', '100', '100', '100']]\n",
    "\n",
    "floats=[item for sublist in list_of_lists for item in sublist]"
   ]
  },
  {
   "cell_type": "code",
   "execution_count": 9,
   "metadata": {},
   "outputs": [
    {
     "ename": "NameError",
     "evalue": "name 'floats' is not defined",
     "output_type": "error",
     "traceback": [
      "\u001b[0;31m---------------------------------------------------------------------------\u001b[0m",
      "\u001b[0;31mNameError\u001b[0m                                 Traceback (most recent call last)",
      "\u001b[0;32m<ipython-input-9-ab23fd7ab742>\u001b[0m in \u001b[0;36m<module>\u001b[0;34m\u001b[0m\n\u001b[0;32m----> 1\u001b[0;31m \u001b[0mtype\u001b[0m\u001b[0;34m(\u001b[0m\u001b[0mfloats\u001b[0m\u001b[0;34m)\u001b[0m\u001b[0;34m\u001b[0m\u001b[0;34m\u001b[0m\u001b[0m\n\u001b[0m",
      "\u001b[0;31mNameError\u001b[0m: name 'floats' is not defined"
     ]
    }
   ],
   "source": []
  },
  {
   "cell_type": "code",
   "execution_count": 16,
   "metadata": {},
   "outputs": [
    {
     "name": "stdout",
     "output_type": "stream",
     "text": [
      "[40.0, 20.0, 10.0, 30.0, 20.0, 20.0, 20.0, 20.0, 20.0, 30.0, 20.0, 30.0, 20.0, 30.0, 50.0, 10.0, 30.0, 20.0, 20.0, 20.0, 100.0, 100.0, 100.0, 100.0, 100.0, 100.0, 100.0, 100.0, 100.0, 100.0, 100.0]\n"
     ]
    }
   ],
   "source": [
    "list_of_lists = [['40', '20', '10', '30'], ['20', '20', '20', '20', '20', '30', '20'], \\\n",
    "['30', '20', '30', '50', '10', '30', '20', '20', '20'], ['100', '100'], ['100', '100', '100', '100', '100'], \\\n",
    "['100', '100', '100', '100']]\n",
    "floats=[float(item) for sublist in list_of_lists for item in sublist]\n",
    "print(floats)"
   ]
  },
  {
   "cell_type": "code",
   "execution_count": 21,
   "metadata": {},
   "outputs": [
    {
     "name": "stdout",
     "output_type": "stream",
     "text": [
      "[[67, 10, 83, 60, 92, 93, 34, 85, 43, 88], [71, 33, 81, 47, 87, 35, 37, 80, 14, 54], [9, 71, 30, 43, 1, 65, 34, 100, 96, 81], [37, 51, 17, 71, 38, 76, 100, 94, 30, 36]]\n"
     ]
    }
   ],
   "source": [
    "import random\n",
    "lista=[[random.randint(1,100) for e in range(10)] for y in range(4)]\n",
    "print(lista)"
   ]
  },
  {
   "cell_type": "code",
   "execution_count": 25,
   "metadata": {},
   "outputs": [
    {
     "name": "stdout",
     "output_type": "stream",
     "text": [
      "la lista debe contener números solamente\n"
     ]
    }
   ],
   "source": [
    "try:\n",
    "    for i in ['a','b','c']:\n",
    "        print(i**2)\n",
    "except:\n",
    "    print('la lista debe contener números solamente')"
   ]
  },
  {
   "cell_type": "code",
   "execution_count": 29,
   "metadata": {},
   "outputs": [
    {
     "name": "stdout",
     "output_type": "stream",
     "text": [
      "no se puede dividir por cero, daría un número infinito\n",
      "All done\n"
     ]
    }
   ],
   "source": [
    "try:\n",
    "    x = 5\n",
    "    y = 0\n",
    "    z = x/y\n",
    "except ZeroDivisionError:\n",
    "    print('no se puede dividir por cero, daría un número infinito')\n",
    "finally:\n",
    "    print('All done')"
   ]
  },
  {
   "cell_type": "code",
   "execution_count": 28,
   "metadata": {},
   "outputs": [
    {
     "ename": "ZeroDivisionError",
     "evalue": "division by zero",
     "output_type": "error",
     "traceback": [
      "\u001b[0;31m---------------------------------------------------------------------------\u001b[0m",
      "\u001b[0;31mZeroDivisionError\u001b[0m                         Traceback (most recent call last)",
      "\u001b[0;32m<ipython-input-28-ec1eaf47f76b>\u001b[0m in \u001b[0;36m<module>\u001b[0;34m\u001b[0m\n\u001b[1;32m      1\u001b[0m \u001b[0mx\u001b[0m \u001b[0;34m=\u001b[0m \u001b[0;36m5\u001b[0m\u001b[0;34m\u001b[0m\u001b[0;34m\u001b[0m\u001b[0m\n\u001b[1;32m      2\u001b[0m \u001b[0my\u001b[0m \u001b[0;34m=\u001b[0m \u001b[0;36m0\u001b[0m\u001b[0;34m\u001b[0m\u001b[0;34m\u001b[0m\u001b[0m\n\u001b[0;32m----> 3\u001b[0;31m \u001b[0mz\u001b[0m \u001b[0;34m=\u001b[0m \u001b[0mx\u001b[0m\u001b[0;34m/\u001b[0m\u001b[0my\u001b[0m\u001b[0;34m\u001b[0m\u001b[0;34m\u001b[0m\u001b[0m\n\u001b[0m",
      "\u001b[0;31mZeroDivisionError\u001b[0m: division by zero"
     ]
    }
   ],
   "source": [
    "x = 5\n",
    "y = 0\n",
    "z = x/y"
   ]
  },
  {
   "cell_type": "code",
   "execution_count": 31,
   "metadata": {},
   "outputs": [
    {
     "name": "stdout",
     "output_type": "stream",
     "text": [
      "el número 3 no aparece en el rango abc\n"
     ]
    }
   ],
   "source": [
    "try:\n",
    "    abc=[10,20,20]\n",
    "    print(abc[3])\n",
    "\n",
    "except IndexError:\n",
    "    print('el número 3 no aparece en el rango abc')"
   ]
  },
  {
   "cell_type": "code",
   "execution_count": 39,
   "metadata": {},
   "outputs": [
    {
     "name": "stdout",
     "output_type": "stream",
     "text": [
      "El nombre de la variable no está definido y no es un número\n",
      "All checked\n"
     ]
    }
   ],
   "source": [
    "try:\n",
    "    intento1=a/h\n",
    "    print(intento1)\n",
    "\n",
    "except NameError:\n",
    "    print('El nombre de la variable no está definido y no es un número')\n",
    "\n",
    "finally:\n",
    "    print('All checked')"
   ]
  },
  {
   "cell_type": "code",
   "execution_count": 37,
   "metadata": {},
   "outputs": [
    {
     "ename": "TypeError",
     "evalue": "'int' object is not iterable",
     "output_type": "error",
     "traceback": [
      "\u001b[0;31m---------------------------------------------------------------------------\u001b[0m",
      "\u001b[0;31mTypeError\u001b[0m                                 Traceback (most recent call last)",
      "\u001b[0;32m<ipython-input-37-e21bf2f40432>\u001b[0m in \u001b[0;36m<module>\u001b[0;34m\u001b[0m\n\u001b[0;32m----> 1\u001b[0;31m \u001b[0mintento2\u001b[0m\u001b[0;34m=\u001b[0m\u001b[0msum\u001b[0m\u001b[0;34m(\u001b[0m\u001b[0;36m9\u001b[0m\u001b[0;34m)\u001b[0m\u001b[0;34m/\u001b[0m\u001b[0;36m6\u001b[0m\u001b[0;34m\u001b[0m\u001b[0;34m\u001b[0m\u001b[0m\n\u001b[0m\u001b[1;32m      2\u001b[0m \u001b[0mprint\u001b[0m\u001b[0;34m(\u001b[0m\u001b[0mintento2\u001b[0m\u001b[0;34m)\u001b[0m\u001b[0;34m\u001b[0m\u001b[0;34m\u001b[0m\u001b[0m\n",
      "\u001b[0;31mTypeError\u001b[0m: 'int' object is not iterable"
     ]
    }
   ],
   "source": [
    "try:\n",
    "    intento2=sum(9)/6\n",
    "    print(intento2)\n",
    "    \n",
    "except TypeError:\n",
    "    print('el número no es iterable, es decir, no se puede sumar ')"
   ]
  },
  {
   "cell_type": "code",
   "execution_count": 41,
   "metadata": {},
   "outputs": [
    {
     "ename": "TypeError",
     "evalue": "'float' object is not iterable",
     "output_type": "error",
     "traceback": [
      "\u001b[0;31m---------------------------------------------------------------------------\u001b[0m",
      "\u001b[0;31mTypeError\u001b[0m                                 Traceback (most recent call last)",
      "\u001b[0;32m<ipython-input-41-a8f88923f88d>\u001b[0m in \u001b[0;36m<module>\u001b[0;34m\u001b[0m\n\u001b[0;32m----> 1\u001b[0;31m \u001b[0mintento\u001b[0m\u001b[0;34m=\u001b[0m\u001b[0msum\u001b[0m\u001b[0;34m(\u001b[0m\u001b[0;36m9\u001b[0m\u001b[0;34m/\u001b[0m\u001b[0;36m6\u001b[0m\u001b[0;34m)\u001b[0m\u001b[0;34m\u001b[0m\u001b[0;34m\u001b[0m\u001b[0m\n\u001b[0m\u001b[1;32m      2\u001b[0m \u001b[0mprint\u001b[0m\u001b[0;34m(\u001b[0m\u001b[0mintento\u001b[0m\u001b[0;34m)\u001b[0m\u001b[0;34m\u001b[0m\u001b[0;34m\u001b[0m\u001b[0m\n",
      "\u001b[0;31mTypeError\u001b[0m: 'float' object is not iterable"
     ]
    }
   ],
   "source": [
    "intento=sum(9/6)\n",
    "print(intento)"
   ]
  },
  {
   "cell_type": "code",
   "execution_count": 50,
   "metadata": {},
   "outputs": [
    {
     "name": "stdout",
     "output_type": "stream",
     "text": [
      "Error dado que no puede sumar nada\n"
     ]
    }
   ],
   "source": [
    "try:\n",
    "    intento2=sum(9/3)\n",
    "    print(intento2)\n",
    "except TypeError:\n",
    "    print('Error dado que no puede sumar nada')"
   ]
  },
  {
   "cell_type": "code",
   "execution_count": 53,
   "metadata": {},
   "outputs": [
    {
     "name": "stdout",
     "output_type": "stream",
     "text": [
      "no se ha encontrado el fichero mencionado\n"
     ]
    }
   ],
   "source": [
    "try:\n",
    "    f = open('testfile','r')\n",
    "    f.write('Test write this')\n",
    "except FileNotFoundError:\n",
    "    print('no se ha encontrado el fichero mencionado')"
   ]
  },
  {
   "cell_type": "code",
   "execution_count": 66,
   "metadata": {},
   "outputs": [
    {
     "name": "stdout",
     "output_type": "stream",
     "text": [
      "el archivo no se encuentra\n"
     ]
    }
   ],
   "source": [
    "try:\n",
    "    fp = open('myfile.txt')\n",
    "    line = f.readline()\n",
    "    i = int(s.strip())\n",
    "\n",
    "except FileNotFoundError:\n",
    "    print('el archivo no se encuentra')\n"
   ]
  },
  {
   "cell_type": "code",
   "execution_count": 68,
   "metadata": {},
   "outputs": [],
   "source": [
    "def linux_interaction():\n",
    "    assert ('linux' in sys.platform), \"Function can only run on Linux systems.\"\n",
    "    print('Doing something.')"
   ]
  },
  {
   "cell_type": "code",
   "execution_count": 72,
   "metadata": {},
   "outputs": [],
   "source": [
    "import sys\n",
    "def linux_interaction():\n",
    "    assert ('linux' in sys.platform), \"Function can only run on Linux systems.\"\n",
    "    print('Doing something.')"
   ]
  },
  {
   "cell_type": "code",
   "execution_count": 76,
   "metadata": {},
   "outputs": [],
   "source": [
    "def linux_interaction():\n",
    "    import sys\n",
    "    assert ('linux' in sys.platform), \"Function can only run on Linux systems.\"\n",
    "    return 'Doing something.'"
   ]
  },
  {
   "cell_type": "code",
   "execution_count": null,
   "metadata": {},
   "outputs": [],
   "source": [
    "try:\n",
    "    def linux_interaction():\n",
    "        assert ('linux' in sys.platform), \"Function can only run on Linux systems.\"\n",
    "        print('Doing something.')\n",
    "\n",
    "except ImportError:\n",
    "    print('funcion no definida para Mac')"
   ]
  }
 ],
 "metadata": {
  "kernelspec": {
   "display_name": "Python 3",
   "language": "python",
   "name": "python3"
  },
  "language_info": {
   "codemirror_mode": {
    "name": "ipython",
    "version": 3
   },
   "file_extension": ".py",
   "mimetype": "text/x-python",
   "name": "python",
   "nbconvert_exporter": "python",
   "pygments_lexer": "ipython3",
   "version": "3.7.6"
  }
 },
 "nbformat": 4,
 "nbformat_minor": 4
}
